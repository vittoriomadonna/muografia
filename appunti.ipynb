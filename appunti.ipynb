{
 "cells": [
  {
   "cell_type": "markdown",
   "id": "2a33516c-af58-4c8e-a36f-b40db8818088",
   "metadata": {},
   "source": [
    "* **Perché studiamo la distribuzione dei raggi cosmici nelle variabili $\\theta$ e $\\phi$ e non invece nelle variabili $\\theta_x$ e $\\theta_y$?**\n",
    "\n",
    "Non soltanto perché abbiamo un modello teorico che predice la distribuzione dei raggi cosmici in funzione degli angoli polari, ma soprattutto perché tale modello ci dice che le misure simultanee dell'angolo polare e dell'angolo azimutale della traccia di un muone sono fra di loro **indipendenti**, mentre sono **dipendenti** e **correlate** le misure degli angoli che la traccia forma con la verticale nei piani $XZ$ e $YZ$."
   ]
  },
  {
   "cell_type": "markdown",
   "id": "7dcafc2e-3a2a-4201-9572-03b3fbd5d341",
   "metadata": {},
   "source": [
    "* **Cosa vogliamo misurare?**\n",
    "\n",
    "Il coefficiente di trasmissione $T$, cioè il rapporto tra numero misurato di muoni sottoterra e il numero atteso di muoni in un esperimento a cielo aperto:\n",
    "\n",
    "$\\displaystyle T = \\frac{N^{u}}{N^{fs}}$.\n",
    "\n",
    "$N^{fs}$ è proporzionale al flusso integrale di muoni moltiplicato per la durata dell'esperimento, la superficie totale esposta del telescopio, l'accettanza geometrica del telescopio e la sua efficienza:\n",
    "\n",
    "$\\displaystyle N^{fs} = S \\cdot \\Delta t \\cdot A \\cdot \\varepsilon \\cdot I_0$."
   ]
  },
  {
   "cell_type": "markdown",
   "id": "a7b68851-b20d-4735-91f7-4ba9e3a3ae85",
   "metadata": {},
   "source": [
    "* **Decodificare i file *raw*.**\n",
    "\n",
    "Ciascun file *raw* è costituito da triplette di righe e per ciascuna di esse la prima riga contiene l'identificativo dell'evento (in esadecimale); la seconda e la terza contengono entrambe una stringa di 30 cifre in esadecimale  che rappresentano rispettivamente la vista *Slave* ($YZ$) e la vista *Master* (*XZ*) del telescopio. Ciascuna stringa contiene 10 triplette di cifre che rappresentano l'informazione di un piano del telescopio. Il primo piano dal basso corrisponde alla prima tripletta da sinistra. Traducendo queste triplette in binario, si ottiene una rappresentazione in *bit* della traccia lasciata all'interno del telescopio dalla particella. Introducendo un sistema di coordinate cartesiane, è possibile misurare gli angoli $\\theta_x$, $\\theta_y$ che la traccia forma con la verticale rispettivamente nei piani $XZ$ e $YZ$ tramite le pendenze delle rette di *best-fit*: $x = m_x z + q_x$ e  $y = m_y z + q_y$.\n",
    "\n",
    "Si pongono una serie di problemi:\n",
    "* Come stimare l'efficienza, ovvero come identificare i *pixel* morti?\n",
    "* Come distinguere un coincidenza reale da una casuale? (usare il $\\chi^2/ndof$ come *threshold*)"
   ]
  },
  {
   "cell_type": "markdown",
   "id": "ff555068-c0c7-4fba-b8d5-e800364d9aac",
   "metadata": {},
   "source": [
    "* **Generatore Monte Carlo di raggi cosmici.**\n",
    "\n",
    "Si pongono i seguenti problemi:\n",
    "\n",
    "* Come generare i punti di impatto? (in numero eguale per ciascun piano, tutti su quello più in basso, etc.)\n",
    "* Collegato al precedente, come calcolare l'accettanza?\n",
    "\n",
    "(Per rispondere a questa domanda, bisogna tenere conto che il numero minimo di segnali richiesto per identificare una correlazione è tre, in quanto questi servono per un *fit* lineare. Il campo visivo del telescopio in termini di $\\theta_x$ e $\\theta_y$ si ottiene quindi immaginando di osservare una risposta da tre piani consecutivi, che corrisponde a un'apertura massima rispetto allo zenith di $arctan(40/21)\\approx 62^{\\circ}$, in accordo con i dati.)"
   ]
  }
 ],
 "metadata": {
  "kernelspec": {
   "display_name": "Python [conda env:base] *",
   "language": "python",
   "name": "conda-base-py"
  },
  "language_info": {
   "codemirror_mode": {
    "name": "ipython",
    "version": 3
   },
   "file_extension": ".py",
   "mimetype": "text/x-python",
   "name": "python",
   "nbconvert_exporter": "python",
   "pygments_lexer": "ipython3",
   "version": "3.12.3"
  }
 },
 "nbformat": 4,
 "nbformat_minor": 5
}
