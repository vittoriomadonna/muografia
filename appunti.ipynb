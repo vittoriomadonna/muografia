{
 "cells": [
  {
   "cell_type": "markdown",
   "id": "2a33516c-af58-4c8e-a36f-b40db8818088",
   "metadata": {},
   "source": [
    "* **Perché studiamo la distribuzione dei raggi cosmici nelle variabili $\\theta$ e $\\phi$ e non invece nelle variabili $\\theta_x$ e $\\theta_y$?**\n",
    "\n",
    "Non soltanto perché abbiamo un modello teorico che predice la distribuzione dei raggi cosmici in funzione degli angoli polari, ma soprattutto perché tale modello ci dice che le misure simultanee dell'angolo polare e dell'angolo azimutale della traccia di un muone sono fra di loro **indipendenti**, mentre sono **dipendenti** e **correlate** le misure degli angoli che la traccia forma con la verticale nei piani $XZ$ e $YZ$."
   ]
  },
  {
   "cell_type": "code",
   "execution_count": null,
   "id": "667ac04d-fd60-40b1-9360-203767409022",
   "metadata": {},
   "outputs": [],
   "source": []
  }
 ],
 "metadata": {
  "kernelspec": {
   "display_name": "Python [conda env:base] *",
   "language": "python",
   "name": "conda-base-py"
  },
  "language_info": {
   "codemirror_mode": {
    "name": "ipython",
    "version": 3
   },
   "file_extension": ".py",
   "mimetype": "text/x-python",
   "name": "python",
   "nbconvert_exporter": "python",
   "pygments_lexer": "ipython3",
   "version": "3.12.3"
  }
 },
 "nbformat": 4,
 "nbformat_minor": 5
}
