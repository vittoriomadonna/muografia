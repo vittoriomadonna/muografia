{
 "cells": [
  {
   "cell_type": "code",
   "execution_count": 54,
   "id": "1ebfbbfa-64d6-4752-985d-60c1b48ac71e",
   "metadata": {},
   "outputs": [],
   "source": [
    "files = []\n",
    "for y in range(16, 17):\n",
    "    for m in range(1, 13):\n",
    "        for d in range(1, 32):\n",
    "            if m<10 and d<10:\n",
    "                fp = 'C:/data/Eventi/Muoni_Orario_20{}_0{}_0{}.txt'.format(y, m, d)\n",
    "            elif m<10 and d>=10:\n",
    "                fp = 'C:/data/Eventi/Muoni_Orario_20{}_0{}_{}.txt'.format(y, m, d)\n",
    "            elif m>=10 and d<10:\n",
    "                fp = 'C:/data/Eventi/Muoni_Orario_20{}_{}_0{}.txt'.format(y, m, d)\n",
    "            elif m>=10 and d>=10:\n",
    "                fp = 'C:/data/Eventi/Muoni_Orario_20{}_{}_{}.txt'.format(y, m, d)\n",
    "            files.append(fp)"
   ]
  },
  {
   "cell_type": "code",
   "execution_count": 56,
   "id": "ddf7087a-68fb-4b27-aaff-592f51e969c8",
   "metadata": {},
   "outputs": [],
   "source": [
    "import pandas as pd\n",
    "import numpy as np\n",
    "from datetime import timedelta"
   ]
  },
  {
   "cell_type": "code",
   "execution_count": 64,
   "id": "d68a1a08-f4d2-464d-b10d-b15808af9c89",
   "metadata": {
    "scrolled": true
   },
   "outputs": [
    {
     "data": {
      "text/plain": [
       "[Timedelta('0 days 10:23:15'),\n",
       " Timedelta('0 days 23:56:49'),\n",
       " Timedelta('0 days 23:58:22'),\n",
       " Timedelta('0 days 23:58:22'),\n",
       " Timedelta('0 days 23:59:38'),\n",
       " Timedelta('0 days 13:05:20'),\n",
       " Timedelta('0 days 12:03:13'),\n",
       " Timedelta('0 days 23:58:31'),\n",
       " Timedelta('0 days 23:58:29'),\n",
       " Timedelta('0 days 23:58:32'),\n",
       " Timedelta('0 days 23:57:06'),\n",
       " Timedelta('0 days 23:58:10'),\n",
       " Timedelta('0 days 23:57:40'),\n",
       " Timedelta('0 days 23:59:24'),\n",
       " Timedelta('0 days 23:56:27'),\n",
       " Timedelta('0 days 21:06:16'),\n",
       " Timedelta('0 days 12:57:30'),\n",
       " Timedelta('0 days 23:58:53'),\n",
       " Timedelta('0 days 23:57:48'),\n",
       " Timedelta('0 days 23:59:20'),\n",
       " Timedelta('0 days 23:58:34'),\n",
       " Timedelta('0 days 23:58:12'),\n",
       " Timedelta('0 days 23:58:47'),\n",
       " Timedelta('0 days 09:45:13'),\n",
       " Timedelta('0 days 13:43:18'),\n",
       " Timedelta('0 days 23:58:02'),\n",
       " Timedelta('0 days 23:59:02'),\n",
       " Timedelta('0 days 23:59:32'),\n",
       " Timedelta('0 days 23:59:47'),\n",
       " Timedelta('0 days 23:58:48'),\n",
       " Timedelta('0 days 23:59:29'),\n",
       " Timedelta('0 days 23:56:21'),\n",
       " Timedelta('0 days 23:58:20'),\n",
       " Timedelta('0 days 23:59:42'),\n",
       " Timedelta('0 days 23:53:28'),\n",
       " Timedelta('0 days 23:59:25'),\n",
       " Timedelta('0 days 23:59:22'),\n",
       " Timedelta('0 days 23:58:40'),\n",
       " Timedelta('0 days 23:19:12'),\n",
       " Timedelta('0 days 17:11:33'),\n",
       " Timedelta('0 days 18:37:45'),\n",
       " Timedelta('0 days 23:59:31'),\n",
       " Timedelta('0 days 23:59:44'),\n",
       " Timedelta('0 days 22:47:21'),\n",
       " Timedelta('0 days 18:24:29'),\n",
       " Timedelta('0 days 23:18:19'),\n",
       " Timedelta('0 days 18:14:35'),\n",
       " Timedelta('0 days 17:58:48'),\n",
       " Timedelta('0 days 23:58:24'),\n",
       " Timedelta('0 days 23:57:20'),\n",
       " Timedelta('0 days 23:58:08'),\n",
       " Timedelta('0 days 23:58:17'),\n",
       " Timedelta('0 days 23:59:02'),\n",
       " Timedelta('0 days 23:59:45'),\n",
       " Timedelta('0 days 23:59:36'),\n",
       " Timedelta('0 days 23:59:29'),\n",
       " Timedelta('0 days 23:59:29'),\n",
       " Timedelta('0 days 23:59:39'),\n",
       " Timedelta('0 days 23:59:18'),\n",
       " Timedelta('0 days 23:58:57'),\n",
       " Timedelta('0 days 23:59:46'),\n",
       " Timedelta('0 days 23:58:45'),\n",
       " Timedelta('0 days 23:58:34'),\n",
       " Timedelta('0 days 23:59:03'),\n",
       " Timedelta('0 days 23:59:25'),\n",
       " Timedelta('0 days 23:58:57'),\n",
       " Timedelta('0 days 23:59:18'),\n",
       " Timedelta('0 days 23:58:30'),\n",
       " Timedelta('0 days 23:57:37'),\n",
       " Timedelta('0 days 23:59:29'),\n",
       " Timedelta('0 days 23:57:12'),\n",
       " Timedelta('0 days 23:58:29'),\n",
       " Timedelta('0 days 23:57:52'),\n",
       " Timedelta('0 days 23:58:30'),\n",
       " Timedelta('0 days 23:59:27'),\n",
       " Timedelta('0 days 23:59:50'),\n",
       " Timedelta('0 days 23:59:24')]"
      ]
     },
     "execution_count": 64,
     "metadata": {},
     "output_type": "execute_result"
    }
   ],
   "source": [
    "durations = []\n",
    "for file in files:\n",
    "    try:\n",
    "        temp = pd.read_table(file, sep = r'\\s+', names = ['event_id','time','theta_x','theta_y'])\n",
    "        time = pd.to_timedelta(temp.time)\n",
    "        timemin, timemax = time.min(), time.max()\n",
    "        deltatime = timemax - timemin\n",
    "        durations.append(deltatime)\n",
    "    except:\n",
    "        None\n",
    "durations"
   ]
  },
  {
   "cell_type": "code",
   "execution_count": 89,
   "id": "bc8d4f62-b09f-4a0b-85a3-d2ddb66d0e87",
   "metadata": {},
   "outputs": [
    {
     "data": {
      "text/plain": [
       "104372.0"
      ]
     },
     "execution_count": 89,
     "metadata": {},
     "output_type": "execute_result"
    }
   ],
   "source": [
    "t_tot = round(pd.Series(durations).sum().total_seconds()/60, 0)\n",
    "t_tot"
   ]
  },
  {
   "cell_type": "code",
   "execution_count": 91,
   "id": "766c9fc0-1748-40a8-be5b-5b92e273a9ab",
   "metadata": {},
   "outputs": [
    {
     "data": {
      "text/plain": [
       "1669952000.0000005"
      ]
     },
     "execution_count": 91,
     "metadata": {},
     "output_type": "execute_result"
    }
   ],
   "source": [
    "l = 0.4\n",
    "n = 10\n",
    "s_tot = n*l**2\n",
    "r = 1e4\n",
    "I0 = r*s_tot*t_tot\n",
    "I0"
   ]
  },
  {
   "cell_type": "code",
   "execution_count": null,
   "id": "591f7d0b-633c-4ef0-92d5-b183a674cffb",
   "metadata": {},
   "outputs": [],
   "source": []
  }
 ],
 "metadata": {
  "kernelspec": {
   "display_name": "Python [conda env:base] *",
   "language": "python",
   "name": "conda-base-py"
  },
  "language_info": {
   "codemirror_mode": {
    "name": "ipython",
    "version": 3
   },
   "file_extension": ".py",
   "mimetype": "text/x-python",
   "name": "python",
   "nbconvert_exporter": "python",
   "pygments_lexer": "ipython3",
   "version": "3.12.3"
  }
 },
 "nbformat": 4,
 "nbformat_minor": 5
}
